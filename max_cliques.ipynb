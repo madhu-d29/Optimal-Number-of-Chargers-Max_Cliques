import networkx as nx
import time
import pandas as pd
import numpy as np
df = pd.read_excel("/content/Book2.xlsx", sheet_name=0)
#print(df)
a=df.to_numpy()
print("Input Graph is:")
print(a)
b=np.trace(a)
#print(b)
if(b>0):
  print("matrix has self edge")
else :
  G = nx.from_numpy_matrix(a, create_using=nx.MultiGraph)
  nx.draw_networkx(G)
  c=0
  lst = list(nx.find_cliques(G))
  print("Cliques : ")
  while len(lst) > 0:
    lst.sort(key=len, reverse=True)     
    print(lst[0])
    c+=1
    time.sleep(1)
    [G.remove_node(nd) for nd in lst[0]]
    lst = list(nx.find_cliques(G))
    #nx.draw_networkx(G)
print("N =",c)

